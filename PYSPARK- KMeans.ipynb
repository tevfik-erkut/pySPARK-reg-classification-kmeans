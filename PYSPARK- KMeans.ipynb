{
 "cells": [
  {
   "cell_type": "code",
   "execution_count": 1,
   "id": "6e41cfe2",
   "metadata": {},
   "outputs": [],
   "source": [
    "# libraries\n",
    "import warnings\n",
    "import pandas as pd\n",
    "\n",
    "from pyspark.ml.evaluation import BinaryClassificationEvaluator\n",
    "from pyspark.ml.evaluation import MulticlassClassificationEvaluator\n",
    "from pyspark.ml.feature import StringIndexer, VectorAssembler, OneHotEncoder, StandardScaler\n",
    "from pyspark.sql import SparkSession\n",
    "\n",
    "warnings.filterwarnings(\"ignore\", category=DeprecationWarning)\n",
    "warnings.filterwarnings(\"ignore\", category=FutureWarning)\n",
    "\n",
    "pd.set_option('display.max_columns', None)\n",
    "pd.set_option('display.float_format', lambda x: '%.2f' % x)"
   ]
  },
  {
   "cell_type": "code",
   "execution_count": 2,
   "id": "15575cf9",
   "metadata": {},
   "outputs": [],
   "source": [
    "spark = SparkSession.builder.master(\"local[*]\").getOrCreate()"
   ]
  },
  {
   "cell_type": "code",
   "execution_count": 3,
   "id": "e6c1220c",
   "metadata": {},
   "outputs": [
    {
     "name": "stdout",
     "output_type": "stream",
     "text": [
      "+------+--------------------+--------------------+------------+-----------+--------+----------+--------------------+--------------------+--------+--------------------+--------------------+--------------------+--------------------+--------------------+\n",
      "|TARGET|              CST_NR|               CC_NR|DAY_OF_MONTH|DAY_OF_WEEK|TXN_TIME|TXN_SOURCE|             TXN_TRM|           TXN_ENTRY|TXN_AMNT|                CITY|             COUNTRY|             MC_NAME|               MC_ID|            MCC_CODE|\n",
      "+------+--------------------+--------------------+------------+-----------+--------+----------+--------------------+--------------------+--------+--------------------+--------------------+--------------------+--------------------+--------------------+\n",
      "|   0.0|c64007916f81cb954...|bf4e876751b878515...|         8.0|        4.0|  1800.0|         O|4a1917677530762f2...|12d7720f7273e2a1c...|   540.0|8c1e38274fba4c211...|368a2b6e4893c8ab0...|09adaccd88433a530...|e0d92b0729b140698...|9bcde6cbc90213586...|\n",
      "|   0.0|24882e5a50d43c050...|933c28d9d4c6fb6db...|        11.0|        7.0|  1404.0|         O|4a1917677530762f2...|12b4164904d6ecac8...| 49490.0|8c1e38274fba4c211...|368a2b6e4893c8ab0...|0b0b39198d9a5f47e...|2b047d7167ac6b275...|3c7ce134e41449a3f...|\n",
      "|   0.0|24882e5a50d43c050...|194024f4b029f8df4...|        17.0|        6.0|  1750.0|         O|4a1917677530762f2...|12b4164904d6ecac8...|  5040.0|8c1e38274fba4c211...|368a2b6e4893c8ab0...|59c94e8a976c930a6...|2ff0f25b15cabe373...|2ae12c28b5bebf8e0...|\n",
      "|   0.0|24882e5a50d43c050...|194024f4b029f8df4...|         1.0|        4.0|  1741.0|         O|4a1917677530762f2...|12d7720f7273e2a1c...|    10.0|8c1e38274fba4c211...|368a2b6e4893c8ab0...|a7db20b1dba321830...|e60354c25c84c7742...|03a768696503f2039...|\n",
      "|   0.0|24882e5a50d43c050...|933c28d9d4c6fb6db...|         7.0|        3.0|  2344.0|         O|4a1917677530762f2...|12b4164904d6ecac8...| 47760.0|8c1e38274fba4c211...|368a2b6e4893c8ab0...|0b0b39198d9a5f47e...|2b047d7167ac6b275...|3c7ce134e41449a3f...|\n",
      "+------+--------------------+--------------------+------------+-----------+--------+----------+--------------------+--------------------+--------+--------------------+--------------------+--------------------+--------------------+--------------------+\n",
      "only showing top 5 rows\n",
      "\n"
     ]
    }
   ],
   "source": [
    "spark_df = spark.read.csv('train.csv', inferSchema=True, header=True)\n",
    "spark_df.show(5)"
   ]
  },
  {
   "cell_type": "code",
   "execution_count": 4,
   "id": "0d3125d4",
   "metadata": {},
   "outputs": [
    {
     "name": "stdout",
     "output_type": "stream",
     "text": [
      "Shape:  (607507, 15)\n"
     ]
    }
   ],
   "source": [
    "print(\"Shape: \", (spark_df.count(), len(spark_df.columns)))"
   ]
  },
  {
   "cell_type": "code",
   "execution_count": 5,
   "id": "9b6cf544",
   "metadata": {},
   "outputs": [
    {
     "name": "stdout",
     "output_type": "stream",
     "text": [
      "root\n",
      " |-- TARGET: double (nullable = true)\n",
      " |-- CST_NR: string (nullable = true)\n",
      " |-- CC_NR: string (nullable = true)\n",
      " |-- DAY_OF_MONTH: double (nullable = true)\n",
      " |-- DAY_OF_WEEK: double (nullable = true)\n",
      " |-- TXN_TIME: double (nullable = true)\n",
      " |-- TXN_SOURCE: string (nullable = true)\n",
      " |-- TXN_TRM: string (nullable = true)\n",
      " |-- TXN_ENTRY: string (nullable = true)\n",
      " |-- TXN_AMNT: double (nullable = true)\n",
      " |-- CITY: string (nullable = true)\n",
      " |-- COUNTRY: string (nullable = true)\n",
      " |-- MC_NAME: string (nullable = true)\n",
      " |-- MC_ID: string (nullable = true)\n",
      " |-- MCC_CODE: string (nullable = true)\n",
      "\n"
     ]
    }
   ],
   "source": [
    "spark_df.printSchema() #types of Variables"
   ]
  },
  {
   "cell_type": "code",
   "execution_count": 6,
   "id": "3716154d",
   "metadata": {},
   "outputs": [
    {
     "name": "stdout",
     "output_type": "stream",
     "text": [
      "+-------+--------------------+\n",
      "|summary|             TXN_TRM|\n",
      "+-------+--------------------+\n",
      "|  count|              607507|\n",
      "|   mean|                null|\n",
      "| stddev|                null|\n",
      "|    min|4a1917677530762f2...|\n",
      "|    max|4a1917677530762f2...|\n",
      "+-------+--------------------+\n",
      "\n"
     ]
    }
   ],
   "source": [
    "spark_df.describe([\"TXN_TRM\"]).show()"
   ]
  },
  {
   "cell_type": "code",
   "execution_count": 7,
   "id": "b2a47722",
   "metadata": {},
   "outputs": [
    {
     "name": "stdout",
     "output_type": "stream",
     "text": [
      "+--------------------+------+\n",
      "|             TXN_TRM| count|\n",
      "+--------------------+------+\n",
      "|4a1917677530762f2...|607507|\n",
      "+--------------------+------+\n",
      "\n"
     ]
    }
   ],
   "source": [
    "spark_df.groupby(\"TXN_TRM\").count().show()"
   ]
  },
  {
   "cell_type": "code",
   "execution_count": 8,
   "id": "05e2afd2",
   "metadata": {},
   "outputs": [],
   "source": [
    "columns_to_drop = ['TXN_TRM']\n",
    "spark_df = spark_df.drop(*columns_to_drop)"
   ]
  },
  {
   "cell_type": "code",
   "execution_count": 9,
   "id": "a0049269",
   "metadata": {},
   "outputs": [
    {
     "name": "stdout",
     "output_type": "stream",
     "text": [
      "+------+--------------------+--------------------+------------+-----------+--------+----------+--------------------+--------+--------------------+--------------------+--------------------+--------------------+--------------------+\n",
      "|TARGET|              CST_NR|               CC_NR|DAY_OF_MONTH|DAY_OF_WEEK|TXN_TIME|TXN_SOURCE|           TXN_ENTRY|TXN_AMNT|                CITY|             COUNTRY|             MC_NAME|               MC_ID|            MCC_CODE|\n",
      "+------+--------------------+--------------------+------------+-----------+--------+----------+--------------------+--------+--------------------+--------------------+--------------------+--------------------+--------------------+\n",
      "|   0.0|c64007916f81cb954...|bf4e876751b878515...|         8.0|        4.0|  1800.0|         O|12d7720f7273e2a1c...|   540.0|8c1e38274fba4c211...|368a2b6e4893c8ab0...|09adaccd88433a530...|e0d92b0729b140698...|9bcde6cbc90213586...|\n",
      "|   0.0|24882e5a50d43c050...|933c28d9d4c6fb6db...|        11.0|        7.0|  1404.0|         O|12b4164904d6ecac8...| 49490.0|8c1e38274fba4c211...|368a2b6e4893c8ab0...|0b0b39198d9a5f47e...|2b047d7167ac6b275...|3c7ce134e41449a3f...|\n",
      "|   0.0|24882e5a50d43c050...|194024f4b029f8df4...|        17.0|        6.0|  1750.0|         O|12b4164904d6ecac8...|  5040.0|8c1e38274fba4c211...|368a2b6e4893c8ab0...|59c94e8a976c930a6...|2ff0f25b15cabe373...|2ae12c28b5bebf8e0...|\n",
      "|   0.0|24882e5a50d43c050...|194024f4b029f8df4...|         1.0|        4.0|  1741.0|         O|12d7720f7273e2a1c...|    10.0|8c1e38274fba4c211...|368a2b6e4893c8ab0...|a7db20b1dba321830...|e60354c25c84c7742...|03a768696503f2039...|\n",
      "|   0.0|24882e5a50d43c050...|933c28d9d4c6fb6db...|         7.0|        3.0|  2344.0|         O|12b4164904d6ecac8...| 47760.0|8c1e38274fba4c211...|368a2b6e4893c8ab0...|0b0b39198d9a5f47e...|2b047d7167ac6b275...|3c7ce134e41449a3f...|\n",
      "+------+--------------------+--------------------+------------+-----------+--------+----------+--------------------+--------+--------------------+--------------------+--------------------+--------------------+--------------------+\n",
      "only showing top 5 rows\n",
      "\n"
     ]
    }
   ],
   "source": [
    "spark_df.show(5)"
   ]
  },
  {
   "cell_type": "code",
   "execution_count": 10,
   "id": "10ce7761",
   "metadata": {},
   "outputs": [
    {
     "name": "stdout",
     "output_type": "stream",
     "text": [
      "+------+\n",
      "|TARGET|\n",
      "+------+\n",
      "|   0.0|\n",
      "|   1.0|\n",
      "+------+\n",
      "\n"
     ]
    }
   ],
   "source": [
    "spark_df.select(\"TARGET\").distinct().show()"
   ]
  },
  {
   "cell_type": "code",
   "execution_count": 11,
   "id": "11f7c8e1",
   "metadata": {},
   "outputs": [
    {
     "name": "stdout",
     "output_type": "stream",
     "text": [
      "+-------+--------------------+-----------------+------------------+------------------+------------------+\n",
      "|summary|              TARGET|     DAY_OF_MONTH|       DAY_OF_WEEK|          TXN_TIME|          TXN_AMNT|\n",
      "+-------+--------------------+-----------------+------------------+------------------+------------------+\n",
      "|  count|              607507|           607507|            607507|            607507|            607391|\n",
      "|   mean|0.006064127656142234|10.64453413705521| 4.031207870855809|1434.6514673904992|479.29211990299495|\n",
      "| stddev| 0.07763609942149745| 5.74144331272658|1.9863533004906548| 596.4313362735044|10471.584699228084|\n",
      "|    min|                 0.0|              1.0|               1.0|               0.0|               0.0|\n",
      "|    max|                 1.0|             20.0|               7.0|            2359.0|         4792970.0|\n",
      "+-------+--------------------+-----------------+------------------+------------------+------------------+\n",
      "\n"
     ]
    }
   ],
   "source": [
    "num_cols = [col[0] for col in spark_df.dtypes if col[1] != 'string']\n",
    "spark_df.select(num_cols).describe().show() "
   ]
  },
  {
   "cell_type": "code",
   "execution_count": 12,
   "id": "da6fb29b",
   "metadata": {},
   "outputs": [
    {
     "name": "stdout",
     "output_type": "stream",
     "text": [
      "+-------+--------------------+--------------------+----------+--------------------+--------------------+--------------------+--------------------+--------------------+--------------------+\n",
      "|summary|              CST_NR|               CC_NR|TXN_SOURCE|           TXN_ENTRY|                CITY|             COUNTRY|             MC_NAME|               MC_ID|            MCC_CODE|\n",
      "+-------+--------------------+--------------------+----------+--------------------+--------------------+--------------------+--------------------+--------------------+--------------------+\n",
      "|  count|              607507|              607507|    607507|              607507|              607507|              607507|              607507|              607507|              607507|\n",
      "|   mean|                null|                null|      null|                null|                null|                null|                null|                null|                null|\n",
      "| stddev|                null|                null|      null|                null|                null|                null|                null|                null|                null|\n",
      "|    min|000017bda701cd250...|000089285ee94f2d0...|         B|12b4164904d6ecac8...|001166e9fabf28e96...|02da0fe843543df06...|00025f8b4d2dfa2ed...|0002d1fdac025cea2...|0156beaa20ba79711...|\n",
      "|    max|ffff60d52bdaffbbe...|fffefd161e3a94d71...|         V|34d600ed59b9dee0e...|fff29ffc054e3bbb9...|fc99c77f178627b93...|fff88806a5bc84f93...|ffe39478393dfbe8e...|ffc52906ddb65d175...|\n",
      "+-------+--------------------+--------------------+----------+--------------------+--------------------+--------------------+--------------------+--------------------+--------------------+\n",
      "\n"
     ]
    }
   ],
   "source": [
    "cat_cols = [col[0] for col in spark_df.dtypes if col[1] == 'string']\n",
    "spark_df.select(cat_cols).describe().show() "
   ]
  },
  {
   "cell_type": "code",
   "execution_count": 13,
   "id": "439ab1a7",
   "metadata": {},
   "outputs": [
    {
     "data": {
      "text/html": [
       "<div>\n",
       "<style scoped>\n",
       "    .dataframe tbody tr th:only-of-type {\n",
       "        vertical-align: middle;\n",
       "    }\n",
       "\n",
       "    .dataframe tbody tr th {\n",
       "        vertical-align: top;\n",
       "    }\n",
       "\n",
       "    .dataframe thead th {\n",
       "        text-align: right;\n",
       "    }\n",
       "</style>\n",
       "<table border=\"1\" class=\"dataframe\">\n",
       "  <thead>\n",
       "    <tr style=\"text-align: right;\">\n",
       "      <th></th>\n",
       "      <th>0</th>\n",
       "    </tr>\n",
       "  </thead>\n",
       "  <tbody>\n",
       "    <tr>\n",
       "      <th>TARGET</th>\n",
       "      <td>0</td>\n",
       "    </tr>\n",
       "    <tr>\n",
       "      <th>CST_NR</th>\n",
       "      <td>0</td>\n",
       "    </tr>\n",
       "    <tr>\n",
       "      <th>CC_NR</th>\n",
       "      <td>0</td>\n",
       "    </tr>\n",
       "    <tr>\n",
       "      <th>DAY_OF_MONTH</th>\n",
       "      <td>0</td>\n",
       "    </tr>\n",
       "    <tr>\n",
       "      <th>DAY_OF_WEEK</th>\n",
       "      <td>0</td>\n",
       "    </tr>\n",
       "    <tr>\n",
       "      <th>TXN_TIME</th>\n",
       "      <td>0</td>\n",
       "    </tr>\n",
       "    <tr>\n",
       "      <th>TXN_SOURCE</th>\n",
       "      <td>0</td>\n",
       "    </tr>\n",
       "    <tr>\n",
       "      <th>TXN_ENTRY</th>\n",
       "      <td>0</td>\n",
       "    </tr>\n",
       "    <tr>\n",
       "      <th>TXN_AMNT</th>\n",
       "      <td>116</td>\n",
       "    </tr>\n",
       "    <tr>\n",
       "      <th>CITY</th>\n",
       "      <td>0</td>\n",
       "    </tr>\n",
       "    <tr>\n",
       "      <th>COUNTRY</th>\n",
       "      <td>0</td>\n",
       "    </tr>\n",
       "    <tr>\n",
       "      <th>MC_NAME</th>\n",
       "      <td>0</td>\n",
       "    </tr>\n",
       "    <tr>\n",
       "      <th>MC_ID</th>\n",
       "      <td>0</td>\n",
       "    </tr>\n",
       "    <tr>\n",
       "      <th>MCC_CODE</th>\n",
       "      <td>0</td>\n",
       "    </tr>\n",
       "  </tbody>\n",
       "</table>\n",
       "</div>"
      ],
      "text/plain": [
       "                0\n",
       "TARGET          0\n",
       "CST_NR          0\n",
       "CC_NR           0\n",
       "DAY_OF_MONTH    0\n",
       "DAY_OF_WEEK     0\n",
       "TXN_TIME        0\n",
       "TXN_SOURCE      0\n",
       "TXN_ENTRY       0\n",
       "TXN_AMNT      116\n",
       "CITY            0\n",
       "COUNTRY         0\n",
       "MC_NAME         0\n",
       "MC_ID           0\n",
       "MCC_CODE        0"
      ]
     },
     "execution_count": 13,
     "metadata": {},
     "output_type": "execute_result"
    }
   ],
   "source": [
    "from pyspark.sql.functions import when, count, col\n",
    "spark_df.select([count(when(col(c).isNull(), c)).alias(c) for c in spark_df.columns]).toPandas().T"
   ]
  },
  {
   "cell_type": "code",
   "execution_count": 14,
   "id": "b4a98412",
   "metadata": {},
   "outputs": [],
   "source": [
    "spark_df = spark_df.fillna({'TXN_AMNT':'0'})"
   ]
  },
  {
   "cell_type": "code",
   "execution_count": 15,
   "id": "73e32d2a",
   "metadata": {},
   "outputs": [
    {
     "data": {
      "text/html": [
       "<div>\n",
       "<style scoped>\n",
       "    .dataframe tbody tr th:only-of-type {\n",
       "        vertical-align: middle;\n",
       "    }\n",
       "\n",
       "    .dataframe tbody tr th {\n",
       "        vertical-align: top;\n",
       "    }\n",
       "\n",
       "    .dataframe thead th {\n",
       "        text-align: right;\n",
       "    }\n",
       "</style>\n",
       "<table border=\"1\" class=\"dataframe\">\n",
       "  <thead>\n",
       "    <tr style=\"text-align: right;\">\n",
       "      <th></th>\n",
       "      <th>0</th>\n",
       "    </tr>\n",
       "  </thead>\n",
       "  <tbody>\n",
       "    <tr>\n",
       "      <th>TARGET</th>\n",
       "      <td>0</td>\n",
       "    </tr>\n",
       "    <tr>\n",
       "      <th>CST_NR</th>\n",
       "      <td>0</td>\n",
       "    </tr>\n",
       "    <tr>\n",
       "      <th>CC_NR</th>\n",
       "      <td>0</td>\n",
       "    </tr>\n",
       "    <tr>\n",
       "      <th>DAY_OF_MONTH</th>\n",
       "      <td>0</td>\n",
       "    </tr>\n",
       "    <tr>\n",
       "      <th>DAY_OF_WEEK</th>\n",
       "      <td>0</td>\n",
       "    </tr>\n",
       "    <tr>\n",
       "      <th>TXN_TIME</th>\n",
       "      <td>0</td>\n",
       "    </tr>\n",
       "    <tr>\n",
       "      <th>TXN_SOURCE</th>\n",
       "      <td>0</td>\n",
       "    </tr>\n",
       "    <tr>\n",
       "      <th>TXN_ENTRY</th>\n",
       "      <td>0</td>\n",
       "    </tr>\n",
       "    <tr>\n",
       "      <th>TXN_AMNT</th>\n",
       "      <td>0</td>\n",
       "    </tr>\n",
       "    <tr>\n",
       "      <th>CITY</th>\n",
       "      <td>0</td>\n",
       "    </tr>\n",
       "    <tr>\n",
       "      <th>COUNTRY</th>\n",
       "      <td>0</td>\n",
       "    </tr>\n",
       "    <tr>\n",
       "      <th>MC_NAME</th>\n",
       "      <td>0</td>\n",
       "    </tr>\n",
       "    <tr>\n",
       "      <th>MC_ID</th>\n",
       "      <td>0</td>\n",
       "    </tr>\n",
       "    <tr>\n",
       "      <th>MCC_CODE</th>\n",
       "      <td>0</td>\n",
       "    </tr>\n",
       "  </tbody>\n",
       "</table>\n",
       "</div>"
      ],
      "text/plain": [
       "              0\n",
       "TARGET        0\n",
       "CST_NR        0\n",
       "CC_NR         0\n",
       "DAY_OF_MONTH  0\n",
       "DAY_OF_WEEK   0\n",
       "TXN_TIME      0\n",
       "TXN_SOURCE    0\n",
       "TXN_ENTRY     0\n",
       "TXN_AMNT      0\n",
       "CITY          0\n",
       "COUNTRY       0\n",
       "MC_NAME       0\n",
       "MC_ID         0\n",
       "MCC_CODE      0"
      ]
     },
     "execution_count": 15,
     "metadata": {},
     "output_type": "execute_result"
    }
   ],
   "source": [
    "spark_df.select([count(when(col(c).isNull(), c)).alias(c) for c in spark_df.columns]).toPandas().T"
   ]
  },
  {
   "cell_type": "code",
   "execution_count": 16,
   "id": "6265d785",
   "metadata": {},
   "outputs": [
    {
     "name": "stdout",
     "output_type": "stream",
     "text": [
      "+------+--------------------+--------------------+------------+-----------+--------+----------+--------------------+--------+--------------------+--------------------+--------------------+--------------------+--------------------+\n",
      "|target|              cst_nr|               cc_nr|day_of_month|day_of_week|txn_time|txn_source|           txn_entry|txn_amnt|                city|             country|             mc_name|               mc_id|            mcc_code|\n",
      "+------+--------------------+--------------------+------------+-----------+--------+----------+--------------------+--------+--------------------+--------------------+--------------------+--------------------+--------------------+\n",
      "|   0.0|c64007916f81cb954...|bf4e876751b878515...|         8.0|        4.0|  1800.0|         O|12d7720f7273e2a1c...|   540.0|8c1e38274fba4c211...|368a2b6e4893c8ab0...|09adaccd88433a530...|e0d92b0729b140698...|9bcde6cbc90213586...|\n",
      "|   0.0|24882e5a50d43c050...|933c28d9d4c6fb6db...|        11.0|        7.0|  1404.0|         O|12b4164904d6ecac8...| 49490.0|8c1e38274fba4c211...|368a2b6e4893c8ab0...|0b0b39198d9a5f47e...|2b047d7167ac6b275...|3c7ce134e41449a3f...|\n",
      "|   0.0|24882e5a50d43c050...|194024f4b029f8df4...|        17.0|        6.0|  1750.0|         O|12b4164904d6ecac8...|  5040.0|8c1e38274fba4c211...|368a2b6e4893c8ab0...|59c94e8a976c930a6...|2ff0f25b15cabe373...|2ae12c28b5bebf8e0...|\n",
      "|   0.0|24882e5a50d43c050...|194024f4b029f8df4...|         1.0|        4.0|  1741.0|         O|12d7720f7273e2a1c...|    10.0|8c1e38274fba4c211...|368a2b6e4893c8ab0...|a7db20b1dba321830...|e60354c25c84c7742...|03a768696503f2039...|\n",
      "|   0.0|24882e5a50d43c050...|933c28d9d4c6fb6db...|         7.0|        3.0|  2344.0|         O|12b4164904d6ecac8...| 47760.0|8c1e38274fba4c211...|368a2b6e4893c8ab0...|0b0b39198d9a5f47e...|2b047d7167ac6b275...|3c7ce134e41449a3f...|\n",
      "+------+--------------------+--------------------+------------+-----------+--------+----------+--------------------+--------+--------------------+--------------------+--------------------+--------------------+--------------------+\n",
      "only showing top 5 rows\n",
      "\n"
     ]
    }
   ],
   "source": [
    "spark_df = spark_df.toDF(*[c.lower() for c in spark_df.columns])\n",
    "spark_df.show(5)"
   ]
  },
  {
   "cell_type": "code",
   "execution_count": 17,
   "id": "defbf312",
   "metadata": {},
   "outputs": [],
   "source": [
    "spark_df = spark_df.drop('mc_name')"
   ]
  },
  {
   "cell_type": "code",
   "execution_count": 18,
   "id": "10e2cda5",
   "metadata": {},
   "outputs": [],
   "source": [
    "#converting float values to integer\n",
    "spark_df = spark_df.withColumn(\"TXN_AMNT\", spark_df[\"TXN_AMNT\"].cast(\"integer\"))"
   ]
  },
  {
   "cell_type": "code",
   "execution_count": 19,
   "id": "86855fa2",
   "metadata": {},
   "outputs": [],
   "source": [
    "train_string_columns = []\n",
    "\n",
    "for col, dtype in spark_df.dtypes:\n",
    "    if dtype == 'string':\n",
    "        train_string_columns.append(col)"
   ]
  },
  {
   "cell_type": "code",
   "execution_count": 20,
   "id": "677f2a73",
   "metadata": {},
   "outputs": [],
   "source": [
    "train_df = spark_df\n",
    "from pyspark.ml import Pipeline\n",
    "from pyspark.ml.feature import StringIndexer\n",
    "\n",
    "indexers = [StringIndexer(inputCol=column, outputCol=column+'_index', handleInvalid='keep').fit(train_df) for column in train_string_columns]\n",
    "\n",
    "\n",
    "pipeline = Pipeline(stages=indexers)\n",
    "train_indexed = pipeline.fit(train_df).transform(train_df)"
   ]
  },
  {
   "cell_type": "code",
   "execution_count": 21,
   "id": "5e9732a8",
   "metadata": {},
   "outputs": [],
   "source": [
    "def get_dtype(df,colname):\n",
    "    return [dtype for name, dtype in df.dtypes if name == colname][0]\n",
    "\n",
    "num_cols_train = []\n",
    "for col in train_indexed.columns:\n",
    "    if get_dtype(train_indexed,col) != 'string':\n",
    "        num_cols_train.append(str(col))\n",
    "        \n",
    "train_indexed = train_indexed.select(num_cols_train)"
   ]
  },
  {
   "cell_type": "code",
   "execution_count": 22,
   "id": "45032b37",
   "metadata": {},
   "outputs": [],
   "source": [
    "from pyspark.ml.feature import VectorAssembler\n",
    "vectorAssembler = VectorAssembler(inputCols = train_indexed.drop(\"target\").columns, outputCol = 'features').setHandleInvalid(\"keep\")\n",
    "\n",
    "train_vector = vectorAssembler.transform(train_indexed)"
   ]
  },
  {
   "cell_type": "code",
   "execution_count": 23,
   "id": "31f9949a",
   "metadata": {},
   "outputs": [
    {
     "data": {
      "text/plain": [
       "DataFrame[target: double, day_of_month: double, day_of_week: double, txn_time: double, TXN_AMNT: int, cst_nr_index: double, cc_nr_index: double, txn_source_index: double, txn_entry_index: double, city_index: double, country_index: double, mc_id_index: double, mcc_code_index: double, features: vector]"
      ]
     },
     "execution_count": 23,
     "metadata": {},
     "output_type": "execute_result"
    }
   ],
   "source": [
    "train_vector"
   ]
  },
  {
   "cell_type": "code",
   "execution_count": 24,
   "id": "a9cd70ab",
   "metadata": {},
   "outputs": [],
   "source": [
    "from pyspark.ml.clustering import KMeans\n",
    "import matplotlib.pyplot as plt\n",
    "from pyspark.ml.evaluation import ClusteringEvaluator"
   ]
  },
  {
   "cell_type": "code",
   "execution_count": 34,
   "id": "a58d70c3",
   "metadata": {},
   "outputs": [
    {
     "name": "stdout",
     "output_type": "stream",
     "text": [
      "2\n",
      "Silhouette with squared euclidean distance = 0.8036328641866486\n",
      "3\n",
      "Silhouette with squared euclidean distance = 0.7600937462517264\n",
      "4\n",
      "Silhouette with squared euclidean distance = 0.6676824227824018\n",
      "5\n",
      "Silhouette with squared euclidean distance = 0.7222505881854742\n",
      "6\n",
      "Silhouette with squared euclidean distance = 0.6952899859708339\n"
     ]
    }
   ],
   "source": [
    "cost = np.zeros(7)\n",
    "for k in range(2,7):\n",
    "    print(k)\n",
    "    kmeans = KMeans().setK(k).setSeed(1).setFeaturesCol(\"features\")\n",
    "    model = kmeans.fit(train_vector.sample(False,0.1))\n",
    "    predictions = model.transform(train_vector)\n",
    "    evaluator = ClusteringEvaluator()\n",
    "    silhouette = evaluator.evaluate(predictions)\n",
    "    print(\"Silhouette with squared euclidean distance = \" + str(silhouette))\n",
    "    summary = model.summary\n",
    "    cost[k] = summary.trainingCost"
   ]
  },
  {
   "cell_type": "code",
   "execution_count": 36,
   "id": "35b57872",
   "metadata": {},
   "outputs": [
    {
     "data": {
      "text/plain": [
       "Text(0, 0.5, 'cost')"
      ]
     },
     "execution_count": 36,
     "metadata": {},
     "output_type": "execute_result"
    },
    {
     "data": {
      "image/png": "[encoded data removed]",
      "text/plain": [
       "<Figure size 720x504 with 1 Axes>"
      ]
     },
     "metadata": {
      "needs_background": "light"
     },
     "output_type": "display_data"
    }
   ],
   "source": [
    "fig, ax = plt.subplots(1,1, figsize =(10,7))\n",
    "ax.plot(range(2,7),cost[2:7])\n",
    "ax.set_xlabel('k')\n",
    "ax.set_ylabel('cost')"
   ]
  },
  {
   "cell_type": "code",
   "execution_count": null,
   "id": "3fa861a3",
   "metadata": {},
   "outputs": [],
   "source": []
  }
 ],
 "metadata": {
  "kernelspec": {
   "display_name": "Python 3 (ipykernel)",
   "language": "python",
   "name": "python3"
  },
  "language_info": {
   "codemirror_mode": {
    "name": "ipython",
    "version": 3
   },
   "file_extension": ".py",
   "mimetype": "text/x-python",
   "name": "python",
   "nbconvert_exporter": "python",
   "pygments_lexer": "ipython3",
   "version": "3.9.7"
  }
 },
 "nbformat": 4,
 "nbformat_minor": 5
}
