{
 "cells": [
  {
   "cell_type": "code",
   "execution_count": 174,
   "id": "0cdf28b0",
   "metadata": {},
   "outputs": [],
   "source": [
    "# libraries\n",
    "import warnings\n",
    "import pandas as pd\n",
    "from pyspark.ml.evaluation import BinaryClassificationEvaluator\n",
    "from pyspark.ml.evaluation import MulticlassClassificationEvaluator\n",
    "from pyspark.ml.feature import StringIndexer, VectorAssembler, OneHotEncoder, StandardScaler\n",
    "from pyspark.sql import SparkSession\n",
    "\n",
    "warnings.filterwarnings(\"ignore\", category=DeprecationWarning)\n",
    "warnings.filterwarnings(\"ignore\", category=FutureWarning)\n",
    "\n",
    "pd.set_option('display.max_columns', None)\n",
    "pd.set_option('display.float_format', lambda x: '%.2f' % x)"
   ]
  },
  {
   "cell_type": "code",
   "execution_count": 175,
   "id": "a8b9832d",
   "metadata": {},
   "outputs": [
    {
     "name": "stdout",
     "output_type": "stream",
     "text": [
      "+-------------+-----------------+-------+--------+----------+------+----------+-------------+--------+---------+------------+----------+------------+--------------------+-----------+------------+--------------------+--------------------+-------------+-----+-----+\n",
      "|           id|              vin|  price|   miles|  stock_no|  year|      make|        model|    trim|body_type|vehicle_type|drivetrain|transmission|           fuel_type|engine_size|engine_block|         seller_name|              street|         city|state|  zip|\n",
      "+-------------+-----------------+-------+--------+----------+------+----------+-------------+--------+---------+------------+----------+------------+--------------------+-----------+------------+--------------------+--------------------+-------------+-----+-----+\n",
      "|38b2f52e-8f5d|1GCWGFCF3F1284719|20998.0|115879.0|W1T503168C|2015.0| Chevrolet|Express Cargo|Work Van|Cargo Van|       Truck|       RWD|   Automatic|      E85 / Unleaded|        4.8|           V|nissan ellicott city|8569 Baltimore Na...|Ellicott City|   MD|21043|\n",
      "|97ba4955-ccf0|WBY7Z8C59JVB87514|27921.0|  7339.0|    P33243|2018.0|       BMW|           i3|       s|Hatchback|         Car|       RWD|   Automatic|Electric / Premiu...|        0.6|           I|hendrick honda po...|5381 N Federal Hi...|Pompano Beach|   FL|33064|\n",
      "|be1da9fd-0f34|ML32F4FJ2JHF10325|11055.0| 39798.0|   WM2091A|2018.0|Mitsubishi|    Mirage G4|      SE|    Sedan|         Car|       FWD|   Automatic|            Unleaded|        1.2|           I|  russ darrow toyota|2700 West Washing...|    West Bend|   WI|53095|\n",
      "|84327e45-6cb6|1GCPTEE15K1291189|52997.0| 28568.0|  9U2Y425A|2019.0| Chevrolet|     Colorado|     ZR2|   Pickup|       Truck|       4WD|   Automatic|              Diesel|        2.8|           I|           young kia|308 North Main St...|       Layton|   UT|84041|\n",
      "|cde691c3-91dd|1G2AL18F087312093|   null|188485.0|   T36625A|2008.0|   Pontiac|           G5|    Base|    Coupe|         Car|       FWD|   Automatic|            Unleaded|        2.2|           I|       pappas toyota|    10011 Spencer Rd| Saint Peters|   MO|63376|\n",
      "+-------------+-----------------+-------+--------+----------+------+----------+-------------+--------+---------+------------+----------+------------+--------------------+-----------+------------+--------------------+--------------------+-------------+-----+-----+\n",
      "only showing top 5 rows\n",
      "\n"
     ]
    }
   ],
   "source": [
    "spark = SparkSession.builder.master(\"local[*]\").getOrCreate()\n",
    "spark_df = spark.read.csv('us_dealers_car.csv', inferSchema=True, header=True)\n",
    "spark_df.show(5)"
   ]
  },
  {
   "cell_type": "raw",
   "id": "a128f99c",
   "metadata": {},
   "source": [
    "Context\n",
    "This automotive data covers 8 years of inventory across all the United States. Their goal while creating this dataset was to deliver the most comprehensive and up-to-date depictions of market activity available anywhere.\n",
    "\n",
    "Individual listing records show year, make, model and trim, with VIN-level histories, showing the most recent time the car showed up online back to the earliest, with every change that occurred over that time."
   ]
  },
  {
   "cell_type": "raw",
   "id": "3a55a919",
   "metadata": {},
   "source": [
    "id > This is a GUID and unique in the feed.\n",
    "vin > 17 char long VIN of the car\n",
    "price > The car price as listed on the website\n",
    "miles > The car miles/odometer as listed on the website\n",
    "stock_no > Stock number of the car listed on the website\n",
    "year > Model Year of the car (VIN Decoded)\n",
    "make > Make of the car (VIN Decoded)\n",
    "model > Model of the car (VIN Decoded)\n",
    "trim > Trim of the car (VIN Decoded\n",
    "body_type > Body type of the car (VIN Decoded)"
   ]
  },
  {
   "cell_type": "code",
   "execution_count": 176,
   "id": "a6773ddd",
   "metadata": {},
   "outputs": [
    {
     "name": "stdout",
     "output_type": "stream",
     "text": [
      "Shape:  (2000000, 21)\n"
     ]
    }
   ],
   "source": [
    "print(\"Shape: \", (spark_df.count(), len(spark_df.columns)))"
   ]
  },
  {
   "cell_type": "code",
   "execution_count": 177,
   "id": "e7f64859",
   "metadata": {},
   "outputs": [
    {
     "name": "stdout",
     "output_type": "stream",
     "text": [
      "root\n",
      " |-- id: string (nullable = true)\n",
      " |-- vin: string (nullable = true)\n",
      " |-- price: double (nullable = true)\n",
      " |-- miles: double (nullable = true)\n",
      " |-- stock_no: string (nullable = true)\n",
      " |-- year: double (nullable = true)\n",
      " |-- make: string (nullable = true)\n",
      " |-- model: string (nullable = true)\n",
      " |-- trim: string (nullable = true)\n",
      " |-- body_type: string (nullable = true)\n",
      " |-- vehicle_type: string (nullable = true)\n",
      " |-- drivetrain: string (nullable = true)\n",
      " |-- transmission: string (nullable = true)\n",
      " |-- fuel_type: string (nullable = true)\n",
      " |-- engine_size: double (nullable = true)\n",
      " |-- engine_block: string (nullable = true)\n",
      " |-- seller_name: string (nullable = true)\n",
      " |-- street: string (nullable = true)\n",
      " |-- city: string (nullable = true)\n",
      " |-- state: string (nullable = true)\n",
      " |-- zip: string (nullable = true)\n",
      "\n"
     ]
    }
   ],
   "source": [
    "spark_df.printSchema() #types of Variables"
   ]
  },
  {
   "cell_type": "code",
   "execution_count": 178,
   "id": "9a654201",
   "metadata": {},
   "outputs": [
    {
     "name": "stdout",
     "output_type": "stream",
     "text": [
      "+-------+------------------+\n",
      "|summary|             price|\n",
      "+-------+------------------+\n",
      "|  count|           1812275|\n",
      "|   mean| 28092.85766564125|\n",
      "| stddev|19380.882628866795|\n",
      "|    min|               0.0|\n",
      "|    max|         1495000.0|\n",
      "+-------+------------------+\n",
      "\n"
     ]
    }
   ],
   "source": [
    "spark_df.describe([\"price\"]).show()"
   ]
  },
  {
   "cell_type": "code",
   "execution_count": 179,
   "id": "50e7902e",
   "metadata": {},
   "outputs": [
    {
     "name": "stdout",
     "output_type": "stream",
     "text": [
      "+--------------------+-----+\n",
      "|               model|count|\n",
      "+--------------------+-----+\n",
      "|          458 Spider|  105|\n",
      "|       G Convertible|   64|\n",
      "|                 MDX| 8105|\n",
      "|              Cirrus|    8|\n",
      "|           GLE-Class| 4480|\n",
      "|        California T|  119|\n",
      "|               Astra|   27|\n",
      "|             Contour|   16|\n",
      "|             Outlook|  122|\n",
      "|            Villager|   22|\n",
      "|        458 Speciale|   17|\n",
      "|           Econoline|   13|\n",
      "|                 S60| 3361|\n",
      "|          370Z Coupe|  356|\n",
      "|          Spider 124|    1|\n",
      "|                  SC|  405|\n",
      "|                 718|  708|\n",
      "|ProMaster Window Van|   11|\n",
      "|                  Q7| 4818|\n",
      "|                 DBS|   12|\n",
      "+--------------------+-----+\n",
      "only showing top 20 rows\n",
      "\n"
     ]
    }
   ],
   "source": [
    "spark_df.groupby(\"model\").count().show()"
   ]
  },
  {
   "cell_type": "code",
   "execution_count": 180,
   "id": "da61106c",
   "metadata": {},
   "outputs": [],
   "source": [
    "columns_to_drop = ['zip', \"state\"]\n",
    "spark_df = spark_df.drop(*columns_to_drop)"
   ]
  },
  {
   "cell_type": "code",
   "execution_count": 181,
   "id": "d4fcc8f6",
   "metadata": {},
   "outputs": [
    {
     "name": "stdout",
     "output_type": "stream",
     "text": [
      "+-------------+-----------------+-------+--------+----------+------+----------+-------------+--------+---------+------------+----------+------------+--------------------+-----------+------------+--------------------+--------------------+-------------+\n",
      "|           id|              vin|  price|   miles|  stock_no|  year|      make|        model|    trim|body_type|vehicle_type|drivetrain|transmission|           fuel_type|engine_size|engine_block|         seller_name|              street|         city|\n",
      "+-------------+-----------------+-------+--------+----------+------+----------+-------------+--------+---------+------------+----------+------------+--------------------+-----------+------------+--------------------+--------------------+-------------+\n",
      "|38b2f52e-8f5d|1GCWGFCF3F1284719|20998.0|115879.0|W1T503168C|2015.0| Chevrolet|Express Cargo|Work Van|Cargo Van|       Truck|       RWD|   Automatic|      E85 / Unleaded|        4.8|           V|nissan ellicott city|8569 Baltimore Na...|Ellicott City|\n",
      "|97ba4955-ccf0|WBY7Z8C59JVB87514|27921.0|  7339.0|    P33243|2018.0|       BMW|           i3|       s|Hatchback|         Car|       RWD|   Automatic|Electric / Premiu...|        0.6|           I|hendrick honda po...|5381 N Federal Hi...|Pompano Beach|\n",
      "|be1da9fd-0f34|ML32F4FJ2JHF10325|11055.0| 39798.0|   WM2091A|2018.0|Mitsubishi|    Mirage G4|      SE|    Sedan|         Car|       FWD|   Automatic|            Unleaded|        1.2|           I|  russ darrow toyota|2700 West Washing...|    West Bend|\n",
      "|84327e45-6cb6|1GCPTEE15K1291189|52997.0| 28568.0|  9U2Y425A|2019.0| Chevrolet|     Colorado|     ZR2|   Pickup|       Truck|       4WD|   Automatic|              Diesel|        2.8|           I|           young kia|308 North Main St...|       Layton|\n",
      "|cde691c3-91dd|1G2AL18F087312093|   null|188485.0|   T36625A|2008.0|   Pontiac|           G5|    Base|    Coupe|         Car|       FWD|   Automatic|            Unleaded|        2.2|           I|       pappas toyota|    10011 Spencer Rd| Saint Peters|\n",
      "+-------------+-----------------+-------+--------+----------+------+----------+-------------+--------+---------+------------+----------+------------+--------------------+-----------+------------+--------------------+--------------------+-------------+\n",
      "only showing top 5 rows\n",
      "\n"
     ]
    }
   ],
   "source": [
    "spark_df.show(5)"
   ]
  },
  {
   "cell_type": "code",
   "execution_count": 182,
   "id": "19d37c2e",
   "metadata": {},
   "outputs": [
    {
     "name": "stdout",
     "output_type": "stream",
     "text": [
      "+-------+------------------+------------------+------------------+------------------+\n",
      "|summary|             price|             miles|              year|       engine_size|\n",
      "+-------+------------------+------------------+------------------+------------------+\n",
      "|  count|           1812275|           1979367|           1999928|           1948312|\n",
      "|   mean| 28092.85766564125| 54558.54030909882|2016.2874383477806|3.0564861788005566|\n",
      "| stddev|19380.882628866795|46982.231870885385| 4.011167839438481| 1.349458236193614|\n",
      "|    min|               0.0|               0.0|            1980.0|               0.6|\n",
      "|    max|         1495000.0|         2975291.0|            2022.0|              30.0|\n",
      "+-------+------------------+------------------+------------------+------------------+\n",
      "\n"
     ]
    }
   ],
   "source": [
    "num_cols = [col[0] for col in spark_df.dtypes if col[1] != 'string']\n",
    "spark_df.select(num_cols).describe().show() "
   ]
  },
  {
   "cell_type": "code",
   "execution_count": 183,
   "id": "5762fe04",
   "metadata": {},
   "outputs": [
    {
     "name": "stdout",
     "output_type": "stream",
     "text": [
      "+-------+-------------------+--------------------+-----------+-------+-----------------+------------------+---------+------------+----------+------------+--------------------+------------+-----------------+-----------------+---------+\n",
      "|summary|                 id|                 vin|   stock_no|   make|            model|              trim|body_type|vehicle_type|drivetrain|transmission|           fuel_type|engine_block|      seller_name|           street|     city|\n",
      "+-------+-------------------+--------------------+-----------+-------+-----------------+------------------+---------+------------+----------+------------+--------------------+------------+-----------------+-----------------+---------+\n",
      "|  count|            2000000|             2000000|    1949729|2000000|          1995985|           1992372|  1986086|     1980801|   1992172|     1993295|             1977164|     1947295|          1996814|          1991191|  1996686|\n",
      "|   mean|0.06842204211774171|4.892689445029021...|   Infinity|   null|411.5016567263088|294.50396396864124|     null|        null|      null|        null|                null|        null|             null|6033.907692307693|     null|\n",
      "| stddev|  2.033178783698961|2.996940017749711...|        NaN|   null|318.8046917141647|127.48437369670998|     null|        null|      null|        null|                null|        null|             null|3696.150403304248|     null|\n",
      "|    min|      0000070d-de41|   12014292111142537|          #|  Acura|         1 Series|    \"SEL \"\"Plus\"\"\"|  Car Van|         Car|       4WD|   Automatic|           Biodiesel|           H|\"all cars\"\"r\"\"us\"|  #1 Beal Parkway|Abbeville|\n",
      "|    max|      fffffaa0-8e8c|   ZPBUA1ZLXMLA12560|~~LEATHER~~|  smart|               xD|         xDrive50i|    Wagon|       Truck|       RWD|      Manual|Unleaded; Unleade...|           V|    zzzz & me inc|   Woodland Hills| Zumbrota|\n",
      "+-------+-------------------+--------------------+-----------+-------+-----------------+------------------+---------+------------+----------+------------+--------------------+------------+-----------------+-----------------+---------+\n",
      "\n"
     ]
    }
   ],
   "source": [
    "cat_cols = [col[0] for col in spark_df.dtypes if col[1] == 'string']\n",
    "spark_df.select(cat_cols).describe().show() "
   ]
  },
  {
   "cell_type": "code",
   "execution_count": 184,
   "id": "f4a06283",
   "metadata": {},
   "outputs": [
    {
     "data": {
      "text/html": [
       "<div>\n",
       "<style scoped>\n",
       "    .dataframe tbody tr th:only-of-type {\n",
       "        vertical-align: middle;\n",
       "    }\n",
       "\n",
       "    .dataframe tbody tr th {\n",
       "        vertical-align: top;\n",
       "    }\n",
       "\n",
       "    .dataframe thead th {\n",
       "        text-align: right;\n",
       "    }\n",
       "</style>\n",
       "<table border=\"1\" class=\"dataframe\">\n",
       "  <thead>\n",
       "    <tr style=\"text-align: right;\">\n",
       "      <th></th>\n",
       "      <th>0</th>\n",
       "    </tr>\n",
       "  </thead>\n",
       "  <tbody>\n",
       "    <tr>\n",
       "      <th>id</th>\n",
       "      <td>0</td>\n",
       "    </tr>\n",
       "    <tr>\n",
       "      <th>vin</th>\n",
       "      <td>0</td>\n",
       "    </tr>\n",
       "    <tr>\n",
       "      <th>price</th>\n",
       "      <td>187725</td>\n",
       "    </tr>\n",
       "    <tr>\n",
       "      <th>miles</th>\n",
       "      <td>20633</td>\n",
       "    </tr>\n",
       "    <tr>\n",
       "      <th>stock_no</th>\n",
       "      <td>50271</td>\n",
       "    </tr>\n",
       "    <tr>\n",
       "      <th>year</th>\n",
       "      <td>72</td>\n",
       "    </tr>\n",
       "    <tr>\n",
       "      <th>make</th>\n",
       "      <td>0</td>\n",
       "    </tr>\n",
       "    <tr>\n",
       "      <th>model</th>\n",
       "      <td>4015</td>\n",
       "    </tr>\n",
       "    <tr>\n",
       "      <th>trim</th>\n",
       "      <td>7628</td>\n",
       "    </tr>\n",
       "    <tr>\n",
       "      <th>body_type</th>\n",
       "      <td>13914</td>\n",
       "    </tr>\n",
       "    <tr>\n",
       "      <th>vehicle_type</th>\n",
       "      <td>19199</td>\n",
       "    </tr>\n",
       "    <tr>\n",
       "      <th>drivetrain</th>\n",
       "      <td>7828</td>\n",
       "    </tr>\n",
       "    <tr>\n",
       "      <th>transmission</th>\n",
       "      <td>6705</td>\n",
       "    </tr>\n",
       "    <tr>\n",
       "      <th>fuel_type</th>\n",
       "      <td>22836</td>\n",
       "    </tr>\n",
       "    <tr>\n",
       "      <th>engine_size</th>\n",
       "      <td>51688</td>\n",
       "    </tr>\n",
       "    <tr>\n",
       "      <th>engine_block</th>\n",
       "      <td>52705</td>\n",
       "    </tr>\n",
       "    <tr>\n",
       "      <th>seller_name</th>\n",
       "      <td>3186</td>\n",
       "    </tr>\n",
       "    <tr>\n",
       "      <th>street</th>\n",
       "      <td>8809</td>\n",
       "    </tr>\n",
       "    <tr>\n",
       "      <th>city</th>\n",
       "      <td>3314</td>\n",
       "    </tr>\n",
       "  </tbody>\n",
       "</table>\n",
       "</div>"
      ],
      "text/plain": [
       "                   0\n",
       "id                 0\n",
       "vin                0\n",
       "price         187725\n",
       "miles          20633\n",
       "stock_no       50271\n",
       "year              72\n",
       "make               0\n",
       "model           4015\n",
       "trim            7628\n",
       "body_type      13914\n",
       "vehicle_type   19199\n",
       "drivetrain      7828\n",
       "transmission    6705\n",
       "fuel_type      22836\n",
       "engine_size    51688\n",
       "engine_block   52705\n",
       "seller_name     3186\n",
       "street          8809\n",
       "city            3314"
      ]
     },
     "execution_count": 184,
     "metadata": {},
     "output_type": "execute_result"
    }
   ],
   "source": [
    "from pyspark.sql.functions import when, count, col\n",
    "spark_df.select([count(when(col(c).isNull(), c)).alias(c) for c in spark_df.columns]).toPandas().T"
   ]
  },
  {
   "cell_type": "code",
   "execution_count": 185,
   "id": "0be77a7a",
   "metadata": {},
   "outputs": [],
   "source": [
    "spark_df = spark_df.drop(\"stock_no\", \"engine_size\", \"engine_block\",\"street\", \"city\")"
   ]
  },
  {
   "cell_type": "code",
   "execution_count": 186,
   "id": "96430080",
   "metadata": {},
   "outputs": [
    {
     "data": {
      "text/html": [
       "<div>\n",
       "<style scoped>\n",
       "    .dataframe tbody tr th:only-of-type {\n",
       "        vertical-align: middle;\n",
       "    }\n",
       "\n",
       "    .dataframe tbody tr th {\n",
       "        vertical-align: top;\n",
       "    }\n",
       "\n",
       "    .dataframe thead th {\n",
       "        text-align: right;\n",
       "    }\n",
       "</style>\n",
       "<table border=\"1\" class=\"dataframe\">\n",
       "  <thead>\n",
       "    <tr style=\"text-align: right;\">\n",
       "      <th></th>\n",
       "      <th>0</th>\n",
       "    </tr>\n",
       "  </thead>\n",
       "  <tbody>\n",
       "    <tr>\n",
       "      <th>id</th>\n",
       "      <td>0</td>\n",
       "    </tr>\n",
       "    <tr>\n",
       "      <th>vin</th>\n",
       "      <td>0</td>\n",
       "    </tr>\n",
       "    <tr>\n",
       "      <th>price</th>\n",
       "      <td>187725</td>\n",
       "    </tr>\n",
       "    <tr>\n",
       "      <th>miles</th>\n",
       "      <td>20633</td>\n",
       "    </tr>\n",
       "    <tr>\n",
       "      <th>year</th>\n",
       "      <td>72</td>\n",
       "    </tr>\n",
       "    <tr>\n",
       "      <th>make</th>\n",
       "      <td>0</td>\n",
       "    </tr>\n",
       "    <tr>\n",
       "      <th>model</th>\n",
       "      <td>4015</td>\n",
       "    </tr>\n",
       "    <tr>\n",
       "      <th>trim</th>\n",
       "      <td>7628</td>\n",
       "    </tr>\n",
       "    <tr>\n",
       "      <th>body_type</th>\n",
       "      <td>13914</td>\n",
       "    </tr>\n",
       "    <tr>\n",
       "      <th>vehicle_type</th>\n",
       "      <td>19199</td>\n",
       "    </tr>\n",
       "    <tr>\n",
       "      <th>drivetrain</th>\n",
       "      <td>7828</td>\n",
       "    </tr>\n",
       "    <tr>\n",
       "      <th>transmission</th>\n",
       "      <td>6705</td>\n",
       "    </tr>\n",
       "    <tr>\n",
       "      <th>fuel_type</th>\n",
       "      <td>22836</td>\n",
       "    </tr>\n",
       "    <tr>\n",
       "      <th>seller_name</th>\n",
       "      <td>3186</td>\n",
       "    </tr>\n",
       "  </tbody>\n",
       "</table>\n",
       "</div>"
      ],
      "text/plain": [
       "                   0\n",
       "id                 0\n",
       "vin                0\n",
       "price         187725\n",
       "miles          20633\n",
       "year              72\n",
       "make               0\n",
       "model           4015\n",
       "trim            7628\n",
       "body_type      13914\n",
       "vehicle_type   19199\n",
       "drivetrain      7828\n",
       "transmission    6705\n",
       "fuel_type      22836\n",
       "seller_name     3186"
      ]
     },
     "execution_count": 186,
     "metadata": {},
     "output_type": "execute_result"
    }
   ],
   "source": [
    "spark_df.select([count(when(col(c).isNull(), c)).alias(c) for c in spark_df.columns]).toPandas().T"
   ]
  },
  {
   "cell_type": "code",
   "execution_count": 187,
   "id": "bdb0c539",
   "metadata": {},
   "outputs": [],
   "source": [
    "spark_df = spark_df.na.drop()"
   ]
  },
  {
   "cell_type": "code",
   "execution_count": 188,
   "id": "7175d60e",
   "metadata": {},
   "outputs": [
    {
     "data": {
      "text/html": [
       "<div>\n",
       "<style scoped>\n",
       "    .dataframe tbody tr th:only-of-type {\n",
       "        vertical-align: middle;\n",
       "    }\n",
       "\n",
       "    .dataframe tbody tr th {\n",
       "        vertical-align: top;\n",
       "    }\n",
       "\n",
       "    .dataframe thead th {\n",
       "        text-align: right;\n",
       "    }\n",
       "</style>\n",
       "<table border=\"1\" class=\"dataframe\">\n",
       "  <thead>\n",
       "    <tr style=\"text-align: right;\">\n",
       "      <th></th>\n",
       "      <th>0</th>\n",
       "    </tr>\n",
       "  </thead>\n",
       "  <tbody>\n",
       "    <tr>\n",
       "      <th>id</th>\n",
       "      <td>0</td>\n",
       "    </tr>\n",
       "    <tr>\n",
       "      <th>vin</th>\n",
       "      <td>0</td>\n",
       "    </tr>\n",
       "    <tr>\n",
       "      <th>price</th>\n",
       "      <td>0</td>\n",
       "    </tr>\n",
       "    <tr>\n",
       "      <th>miles</th>\n",
       "      <td>0</td>\n",
       "    </tr>\n",
       "    <tr>\n",
       "      <th>year</th>\n",
       "      <td>0</td>\n",
       "    </tr>\n",
       "    <tr>\n",
       "      <th>make</th>\n",
       "      <td>0</td>\n",
       "    </tr>\n",
       "    <tr>\n",
       "      <th>model</th>\n",
       "      <td>0</td>\n",
       "    </tr>\n",
       "    <tr>\n",
       "      <th>trim</th>\n",
       "      <td>0</td>\n",
       "    </tr>\n",
       "    <tr>\n",
       "      <th>body_type</th>\n",
       "      <td>0</td>\n",
       "    </tr>\n",
       "    <tr>\n",
       "      <th>vehicle_type</th>\n",
       "      <td>0</td>\n",
       "    </tr>\n",
       "    <tr>\n",
       "      <th>drivetrain</th>\n",
       "      <td>0</td>\n",
       "    </tr>\n",
       "    <tr>\n",
       "      <th>transmission</th>\n",
       "      <td>0</td>\n",
       "    </tr>\n",
       "    <tr>\n",
       "      <th>fuel_type</th>\n",
       "      <td>0</td>\n",
       "    </tr>\n",
       "    <tr>\n",
       "      <th>seller_name</th>\n",
       "      <td>0</td>\n",
       "    </tr>\n",
       "  </tbody>\n",
       "</table>\n",
       "</div>"
      ],
      "text/plain": [
       "              0\n",
       "id            0\n",
       "vin           0\n",
       "price         0\n",
       "miles         0\n",
       "year          0\n",
       "make          0\n",
       "model         0\n",
       "trim          0\n",
       "body_type     0\n",
       "vehicle_type  0\n",
       "drivetrain    0\n",
       "transmission  0\n",
       "fuel_type     0\n",
       "seller_name   0"
      ]
     },
     "execution_count": 188,
     "metadata": {},
     "output_type": "execute_result"
    }
   ],
   "source": [
    "spark_df.select([count(when(col(c).isNull(), c)).alias(c) for c in spark_df.columns]).toPandas().T  \n",
    "#our dataframe is ready."
   ]
  },
  {
   "cell_type": "code",
   "execution_count": 201,
   "id": "7e6932a5",
   "metadata": {},
   "outputs": [],
   "source": [
    "#RENAMING COLUMNS\n",
    "spark_df = spark_df.withColumnRenamed(\"price\", \"target\")"
   ]
  },
  {
   "cell_type": "code",
   "execution_count": 202,
   "id": "0a50c74d",
   "metadata": {},
   "outputs": [],
   "source": [
    "#Filling na's with their mean.\n",
    "from pyspark.ml.feature import Imputer\n",
    "imputer = Imputer(\n",
    "    inputCols = [\"target\",\"miles\", \"year\"],\n",
    "    outputCols = [\"target\", \"miles_imputed\", \"year_imputed\"]\n",
    ").setStrategy(\"mean\")"
   ]
  },
  {
   "cell_type": "code",
   "execution_count": 203,
   "id": "0e93a454",
   "metadata": {},
   "outputs": [],
   "source": [
    "spark_df =imputer.fit(spark_df).transform(spark_df)"
   ]
  },
  {
   "cell_type": "code",
   "execution_count": 204,
   "id": "21e97ec2",
   "metadata": {},
   "outputs": [],
   "source": [
    "#Preprocessing\n",
    "spark_df = spark_df.drop(\"id\", \"vin\")"
   ]
  },
  {
   "cell_type": "code",
   "execution_count": 205,
   "id": "87ef4835",
   "metadata": {
    "collapsed": true
   },
   "outputs": [
    {
     "name": "stdout",
     "output_type": "stream",
     "text": [
      "+--------+--------+------+-------------+---------------+--------+---------+------------+----------+------------+--------------------+--------------------+-------------+------------+\n",
      "|  target|   miles|  year|         make|          model|    trim|body_type|vehicle_type|drivetrain|transmission|           fuel_type|         seller_name|miles_imputed|year_imputed|\n",
      "+--------+--------+------+-------------+---------------+--------+---------+------------+----------+------------+--------------------+--------------------+-------------+------------+\n",
      "| 20998.0|115879.0|2015.0|    Chevrolet|  Express Cargo|Work Van|Cargo Van|       Truck|       RWD|   Automatic|      E85 / Unleaded|nissan ellicott city|     115879.0|      2015.0|\n",
      "| 27921.0|  7339.0|2018.0|          BMW|             i3|       s|Hatchback|         Car|       RWD|   Automatic|Electric / Premiu...|hendrick honda po...|       7339.0|      2018.0|\n",
      "| 11055.0| 39798.0|2018.0|   Mitsubishi|      Mirage G4|      SE|    Sedan|         Car|       FWD|   Automatic|            Unleaded|  russ darrow toyota|      39798.0|      2018.0|\n",
      "| 52997.0| 28568.0|2019.0|    Chevrolet|       Colorado|     ZR2|   Pickup|       Truck|       4WD|   Automatic|              Diesel|           young kia|      28568.0|      2019.0|\n",
      "|  3995.0|137537.0|2000.0|        Dodge|     Ram Pickup|      ST|   Pickup|       Truck|       RWD|      Manual|            Unleaded|  baumann auto group|     137537.0|      2000.0|\n",
      "|  6500.0| 74274.0|2010.0|    Chevrolet|            HHR|      LT| Mini Mpv|         Car|       FWD|   Automatic|      E85 / Unleaded|volkswagen of gra...|      74274.0|      2010.0|\n",
      "|105974.0|  9589.0|2020.0|          BMW|           X6 M|    Base|      SUV|       Truck|       4WD|   Automatic|    Premium Unleaded|        braman miami|       9589.0|      2020.0|\n",
      "| 23024.0|131286.0|2016.0|    Chevrolet|       Colorado|      LT|   Pickup|       Truck|       RWD|   Automatic|              Diesel|jefferson city au...|     131286.0|      2016.0|\n",
      "| 16995.0|110615.0|2011.0|Mercedes-Benz|      CLS-Class|  CLS550|    Coupe|         Car|       RWD|   Automatic|    Premium Unleaded| mclarty daniel ford|     110615.0|      2011.0|\n",
      "|  5870.0|144159.0|2004.0|    Chevrolet|    TrailBlazer|      LS|      SUV|       Truck|       4WD|   Automatic|            Unleaded|    quality cadillac|     144159.0|      2004.0|\n",
      "| 27999.0| 60122.0|2008.0|     Maserati|    GranTurismo|    Base|    Coupe|         Car|       RWD|   Automatic|    Premium Unleaded|                tred|      60122.0|      2008.0|\n",
      "| 17995.0|107146.0|2008.0|        Lexus|             GX|     470|      SUV|       Truck|       4WD|   Automatic|    Premium Unleaded|       damas auto va|     107146.0|      2008.0|\n",
      "| 30799.0| 33015.0|2020.0|    Chevrolet|  Express Cargo|Work Van|Cargo Van|       Truck|       RWD|   Automatic|            Unleaded|walser automotive...|      33015.0|      2020.0|\n",
      "| 45999.0| 70954.0|2017.0|          RAM|Ram 2500 Pickup| Laramie|   Pickup|       Truck|       4WD|   Automatic|            Unleaded|leonardtown chevr...|      70954.0|      2017.0|\n",
      "| 47848.0|  7556.0|2020.0|    Chevrolet|       Colorado|     ZR2|   Pickup|       Truck|       4WD|   Automatic|              Diesel|       east bay mini|       7556.0|      2020.0|\n",
      "| 40988.0| 69610.0|2014.0|      Porsche|        Cayenne|     GTS|      SUV|       Truck|       4WD|   Automatic|    Premium Unleaded|stevenson hendric...|      69610.0|      2014.0|\n",
      "| 55595.0| 28904.0|2018.0|        Dodge|        Durango|     SRT|      SUV|       Truck|       4WD|   Automatic|    Premium Unleaded|infiniti of engle...|      28904.0|      2018.0|\n",
      "| 35290.0| 12589.0|2020.0|    Chevrolet|  Express Cargo|Work Van|Cargo Van|       Truck|       RWD|   Automatic|            Unleaded|  mini of fort wayne|      12589.0|      2020.0|\n",
      "| 15996.0| 31371.0|2018.0|         Ford|       Ecosport|      SE|Crossover|       Truck|       FWD|   Automatic|            Unleaded|   gerald auto group|      31371.0|      2018.0|\n",
      "|  5999.0| 73971.0|2004.0|      Mercury|       Monterey| Premier|  Minivan|       Truck|       FWD|   Automatic|            Unleaded|            autoride|      73971.0|      2004.0|\n",
      "+--------+--------+------+-------------+---------------+--------+---------+------------+----------+------------+--------------------+--------------------+-------------+------------+\n",
      "only showing top 20 rows\n",
      "\n"
     ]
    }
   ],
   "source": [
    "spark_df.show()"
   ]
  },
  {
   "cell_type": "code",
   "execution_count": 230,
   "id": "9254a679",
   "metadata": {},
   "outputs": [],
   "source": [
    "train_string_columns = []\n",
    "\n",
    "for col, dtype in spark_df.dtypes:\n",
    "    if dtype == 'string':\n",
    "        train_string_columns.append(col)"
   ]
  },
  {
   "cell_type": "code",
   "execution_count": 231,
   "id": "139b1b07",
   "metadata": {},
   "outputs": [],
   "source": [
    "train_df = spark_df"
   ]
  },
  {
   "cell_type": "code",
   "execution_count": 232,
   "id": "801dcd3f",
   "metadata": {},
   "outputs": [],
   "source": [
    "from pyspark.ml import Pipeline\n",
    "from pyspark.ml.feature import StringIndexer\n",
    "\n",
    "indexers = [StringIndexer(inputCol=column, outputCol=column+'_index', handleInvalid='keep').fit(train_df) for column in train_string_columns]\n",
    "\n",
    "\n",
    "pipeline = Pipeline(stages=indexers)\n",
    "train_indexed = pipeline.fit(train_df).transform(train_df)"
   ]
  },
  {
   "cell_type": "code",
   "execution_count": 234,
   "id": "bf271c63",
   "metadata": {},
   "outputs": [],
   "source": [
    "def get_dtype(df,colname):\n",
    "    return [dtype for name, dtype in df.dtypes if name == colname][0]\n",
    "\n",
    "num_cols_train = []\n",
    "for col in train_indexed.columns:\n",
    "    if get_dtype(train_indexed,col) != 'string':\n",
    "        num_cols_train.append(str(col))\n",
    "        \n",
    "train_indexed = train_indexed.select(num_cols_train)"
   ]
  },
  {
   "cell_type": "code",
   "execution_count": 235,
   "id": "d6ecb37d",
   "metadata": {},
   "outputs": [],
   "source": [
    "from pyspark.ml.feature import VectorAssembler\n",
    "vectorAssembler = VectorAssembler(inputCols = train_indexed.drop(\"target\").columns, outputCol = 'features').setHandleInvalid(\"keep\")\n",
    "\n",
    "train_vector = vectorAssembler.transform(train_indexed)"
   ]
  },
  {
   "cell_type": "code",
   "execution_count": 236,
   "id": "a1d2bc85",
   "metadata": {},
   "outputs": [],
   "source": [
    "# Train_test_split\n",
    "\n",
    "splits = train_vector.randomSplit([0.7, 0.3])\n",
    "train = splits[0]\n",
    "val = splits[1]"
   ]
  },
  {
   "cell_type": "code",
   "execution_count": 249,
   "id": "ce1f9f78",
   "metadata": {},
   "outputs": [
    {
     "name": "stdout",
     "output_type": "stream",
     "text": [
      "RMSE: 15301.242008\n",
      "r2: 0.317105\n",
      "+------------------+------+--------------------+\n",
      "|        prediction|target|            features|\n",
      "+------------------+------+--------------------+\n",
      "|11686.686157552525|   998|[179900.0,2003.0,...|\n",
      "|11684.864682183601|   998|[179900.0,2003.0,...|\n",
      "|11681.555241020862|   998|[179900.0,2003.0,...|\n",
      "| 4456.187117821071|  1195|[241929.0,2004.0,...|\n",
      "| 32658.36297209887|  1320|[276648.0,1998.0,...|\n",
      "+------------------+------+--------------------+\n",
      "only showing top 5 rows\n",
      "\n",
      "R Squared (R2) on val data = 0.324406\n"
     ]
    }
   ],
   "source": [
    "#Regression Model\n",
    "\n",
    "from pyspark.ml.regression import LinearRegression\n",
    "from  pyspark.sql.functions import abs\n",
    "lr = LinearRegression(featuresCol = 'features', labelCol='target', maxIter=10, \n",
    "                      regParam=0.8, elasticNetParam=0.1) # It is always a good idea to play with hyperparameters.\n",
    "lr_model = lr.fit(train)\n",
    "\n",
    "trainingSummary = lr_model.summary\n",
    "print(\"RMSE: %f\" % trainingSummary.rootMeanSquaredError)\n",
    "print(\"r2: %f\" % trainingSummary.r2)\n",
    "\n",
    "lr_predictions = lr_model.transform(val)\n",
    "lr_predictions = lr_predictions.withColumn(\"prediction\",abs(lr_predictions[\"prediction\"]))\n",
    "lr_predictions.select(\"prediction\",\"target\",\"features\").show(5)\n",
    "\n",
    "from pyspark.ml.evaluation import RegressionEvaluator\n",
    "lr_evaluator = RegressionEvaluator(predictionCol=\"prediction\", \\\n",
    "                 labelCol=\"target\",metricName=\"r2\")\n",
    "print(\"R Squared (R2) on val data = %g\" % lr_evaluator.evaluate(lr_predictions))"
   ]
  },
  {
   "cell_type": "code",
   "execution_count": null,
   "id": "2d83fbb2",
   "metadata": {},
   "outputs": [],
   "source": [
    "# >>>>>> R Squared (R2) on val data = 0.324406"
   ]
  }
 ],
 "metadata": {
  "kernelspec": {
   "display_name": "Python 3 (ipykernel)",
   "language": "python",
   "name": "python3"
  },
  "language_info": {
   "codemirror_mode": {
    "name": "ipython",
    "version": 3
   },
   "file_extension": ".py",
   "mimetype": "text/x-python",
   "name": "python",
   "nbconvert_exporter": "python",
   "pygments_lexer": "ipython3",
   "version": "3.9.7"
  }
 },
 "nbformat": 4,
 "nbformat_minor": 5
}
