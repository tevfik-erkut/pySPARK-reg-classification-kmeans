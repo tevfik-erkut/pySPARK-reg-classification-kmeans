{
 "cells": [
  {
   "cell_type": "code",
   "execution_count": 117,
   "id": "6e41cfe2",
   "metadata": {},
   "outputs": [],
   "source": [
    "# libraries\n",
    "import warnings\n",
    "# import findspark\n",
    "import pandas as pd\n",
    "from pyspark.ml.evaluation import BinaryClassificationEvaluator\n",
    "from pyspark.ml.evaluation import MulticlassClassificationEvaluator\n",
    "from pyspark.ml.feature import StringIndexer, VectorAssembler, OneHotEncoder, StandardScaler\n",
    "from pyspark.ml.tuning import ParamGridBuilder, CrossValidator\n",
    "from pyspark.sql import SparkSession\n",
    "from pyspark.ml.feature import Bucketizer\n",
    "\n",
    "warnings.filterwarnings(\"ignore\", category=DeprecationWarning)\n",
    "warnings.filterwarnings(\"ignore\", category=FutureWarning)\n",
    "\n",
    "pd.set_option('display.max_columns', None)\n",
    "pd.set_option('display.float_format', lambda x: '%.2f' % x)"
   ]
  },
  {
   "cell_type": "code",
   "execution_count": 118,
   "id": "15575cf9",
   "metadata": {},
   "outputs": [],
   "source": [
    "spark = SparkSession.builder.master(\"local[*]\").getOrCreate()"
   ]
  },
  {
   "cell_type": "code",
   "execution_count": 119,
   "id": "e6c1220c",
   "metadata": {},
   "outputs": [
    {
     "name": "stdout",
     "output_type": "stream",
     "text": [
      "+------+--------------------+--------------------+------------+-----------+--------+----------+--------------------+--------------------+--------+--------------------+--------------------+--------------------+--------------------+--------------------+\n",
      "|TARGET|              CST_NR|               CC_NR|DAY_OF_MONTH|DAY_OF_WEEK|TXN_TIME|TXN_SOURCE|             TXN_TRM|           TXN_ENTRY|TXN_AMNT|                CITY|             COUNTRY|             MC_NAME|               MC_ID|            MCC_CODE|\n",
      "+------+--------------------+--------------------+------------+-----------+--------+----------+--------------------+--------------------+--------+--------------------+--------------------+--------------------+--------------------+--------------------+\n",
      "|   0.0|c64007916f81cb954...|bf4e876751b878515...|         8.0|        4.0|  1800.0|         O|4a1917677530762f2...|12d7720f7273e2a1c...|   540.0|8c1e38274fba4c211...|368a2b6e4893c8ab0...|09adaccd88433a530...|e0d92b0729b140698...|9bcde6cbc90213586...|\n",
      "|   0.0|24882e5a50d43c050...|933c28d9d4c6fb6db...|        11.0|        7.0|  1404.0|         O|4a1917677530762f2...|12b4164904d6ecac8...| 49490.0|8c1e38274fba4c211...|368a2b6e4893c8ab0...|0b0b39198d9a5f47e...|2b047d7167ac6b275...|3c7ce134e41449a3f...|\n",
      "|   0.0|24882e5a50d43c050...|194024f4b029f8df4...|        17.0|        6.0|  1750.0|         O|4a1917677530762f2...|12b4164904d6ecac8...|  5040.0|8c1e38274fba4c211...|368a2b6e4893c8ab0...|59c94e8a976c930a6...|2ff0f25b15cabe373...|2ae12c28b5bebf8e0...|\n",
      "|   0.0|24882e5a50d43c050...|194024f4b029f8df4...|         1.0|        4.0|  1741.0|         O|4a1917677530762f2...|12d7720f7273e2a1c...|    10.0|8c1e38274fba4c211...|368a2b6e4893c8ab0...|a7db20b1dba321830...|e60354c25c84c7742...|03a768696503f2039...|\n",
      "|   0.0|24882e5a50d43c050...|933c28d9d4c6fb6db...|         7.0|        3.0|  2344.0|         O|4a1917677530762f2...|12b4164904d6ecac8...| 47760.0|8c1e38274fba4c211...|368a2b6e4893c8ab0...|0b0b39198d9a5f47e...|2b047d7167ac6b275...|3c7ce134e41449a3f...|\n",
      "+------+--------------------+--------------------+------------+-----------+--------+----------+--------------------+--------------------+--------+--------------------+--------------------+--------------------+--------------------+--------------------+\n",
      "only showing top 5 rows\n",
      "\n"
     ]
    }
   ],
   "source": [
    "spark_df = spark.read.csv('train.csv', inferSchema=True, header=True)\n",
    "spark_df.show(5)"
   ]
  },
  {
   "cell_type": "raw",
   "id": "76e89923",
   "metadata": {},
   "source": [
    "This dataset includes transactions made by customers from all around the world. Some of them are fraudulent, and the others are normal transactions. \n",
    "By training some algorithms on this dataset, we can build a model to predict whether a transaction is fraudulent or not."
   ]
  },
  {
   "cell_type": "raw",
   "id": "5df87f64",
   "metadata": {},
   "source": [
    "target > fraud / non-fraud\n",
    "CST_NR > customer_number\n",
    "CC_NR > credit_card number\n",
    "DAY_OF_MONTH > day_of_month of transaction\n",
    "DAY_OF_WEEK > day_of_week of transaction\n",
    "TXN_TIME > transaction_time\n",
    "TXN_TRM > transactions_terminal_type\n",
    "TXN_SOURCE > transaction's source\n",
    "TXN_ENTRY > password_control_for_transaction\n",
    "TXN_AMNT > transaction's amount\n",
    "CITY \n",
    "COUNTRY\n",
    "MC_NAME > name of the business place which transaction was made\n",
    "MC_ID > ID of the business place which transaction was made\n",
    "MCC_CODE > sector code for the business place"
   ]
  },
  {
   "cell_type": "code",
   "execution_count": 120,
   "id": "0d3125d4",
   "metadata": {},
   "outputs": [
    {
     "name": "stdout",
     "output_type": "stream",
     "text": [
      "Shape:  (607507, 15)\n"
     ]
    }
   ],
   "source": [
    "print(\"Shape: \", (spark_df.count(), len(spark_df.columns)))"
   ]
  },
  {
   "cell_type": "code",
   "execution_count": 121,
   "id": "9b6cf544",
   "metadata": {},
   "outputs": [
    {
     "name": "stdout",
     "output_type": "stream",
     "text": [
      "root\n",
      " |-- TARGET: double (nullable = true)\n",
      " |-- CST_NR: string (nullable = true)\n",
      " |-- CC_NR: string (nullable = true)\n",
      " |-- DAY_OF_MONTH: double (nullable = true)\n",
      " |-- DAY_OF_WEEK: double (nullable = true)\n",
      " |-- TXN_TIME: double (nullable = true)\n",
      " |-- TXN_SOURCE: string (nullable = true)\n",
      " |-- TXN_TRM: string (nullable = true)\n",
      " |-- TXN_ENTRY: string (nullable = true)\n",
      " |-- TXN_AMNT: double (nullable = true)\n",
      " |-- CITY: string (nullable = true)\n",
      " |-- COUNTRY: string (nullable = true)\n",
      " |-- MC_NAME: string (nullable = true)\n",
      " |-- MC_ID: string (nullable = true)\n",
      " |-- MCC_CODE: string (nullable = true)\n",
      "\n"
     ]
    }
   ],
   "source": [
    "spark_df.printSchema() #types of Variables"
   ]
  },
  {
   "cell_type": "code",
   "execution_count": 122,
   "id": "3716154d",
   "metadata": {},
   "outputs": [
    {
     "name": "stdout",
     "output_type": "stream",
     "text": [
      "+-------+--------------------+\n",
      "|summary|             TXN_TRM|\n",
      "+-------+--------------------+\n",
      "|  count|              607507|\n",
      "|   mean|                null|\n",
      "| stddev|                null|\n",
      "|    min|4a1917677530762f2...|\n",
      "|    max|4a1917677530762f2...|\n",
      "+-------+--------------------+\n",
      "\n"
     ]
    }
   ],
   "source": [
    "spark_df.describe([\"TXN_TRM\"]).show()"
   ]
  },
  {
   "cell_type": "code",
   "execution_count": 123,
   "id": "b2a47722",
   "metadata": {},
   "outputs": [
    {
     "name": "stdout",
     "output_type": "stream",
     "text": [
      "+--------------------+------+\n",
      "|             TXN_TRM| count|\n",
      "+--------------------+------+\n",
      "|4a1917677530762f2...|607507|\n",
      "+--------------------+------+\n",
      "\n"
     ]
    }
   ],
   "source": [
    "spark_df.groupby(\"TXN_TRM\").count().show() #all values are equal, therefore TXN_TRM should be dropped."
   ]
  },
  {
   "cell_type": "code",
   "execution_count": 124,
   "id": "05e2afd2",
   "metadata": {},
   "outputs": [],
   "source": [
    "columns_to_drop = ['TXN_TRM', \"CST_NR\"]  # I also dropped CST_NR because it's highly correlated with CC_NR.\n",
    "spark_df = spark_df.drop(*columns_to_drop)"
   ]
  },
  {
   "cell_type": "code",
   "execution_count": 125,
   "id": "a0049269",
   "metadata": {},
   "outputs": [
    {
     "name": "stdout",
     "output_type": "stream",
     "text": [
      "+------+--------------------+------------+-----------+--------+----------+--------------------+--------+--------------------+--------------------+--------------------+--------------------+--------------------+\n",
      "|TARGET|               CC_NR|DAY_OF_MONTH|DAY_OF_WEEK|TXN_TIME|TXN_SOURCE|           TXN_ENTRY|TXN_AMNT|                CITY|             COUNTRY|             MC_NAME|               MC_ID|            MCC_CODE|\n",
      "+------+--------------------+------------+-----------+--------+----------+--------------------+--------+--------------------+--------------------+--------------------+--------------------+--------------------+\n",
      "|   0.0|bf4e876751b878515...|         8.0|        4.0|  1800.0|         O|12d7720f7273e2a1c...|   540.0|8c1e38274fba4c211...|368a2b6e4893c8ab0...|09adaccd88433a530...|e0d92b0729b140698...|9bcde6cbc90213586...|\n",
      "|   0.0|933c28d9d4c6fb6db...|        11.0|        7.0|  1404.0|         O|12b4164904d6ecac8...| 49490.0|8c1e38274fba4c211...|368a2b6e4893c8ab0...|0b0b39198d9a5f47e...|2b047d7167ac6b275...|3c7ce134e41449a3f...|\n",
      "|   0.0|194024f4b029f8df4...|        17.0|        6.0|  1750.0|         O|12b4164904d6ecac8...|  5040.0|8c1e38274fba4c211...|368a2b6e4893c8ab0...|59c94e8a976c930a6...|2ff0f25b15cabe373...|2ae12c28b5bebf8e0...|\n",
      "|   0.0|194024f4b029f8df4...|         1.0|        4.0|  1741.0|         O|12d7720f7273e2a1c...|    10.0|8c1e38274fba4c211...|368a2b6e4893c8ab0...|a7db20b1dba321830...|e60354c25c84c7742...|03a768696503f2039...|\n",
      "|   0.0|933c28d9d4c6fb6db...|         7.0|        3.0|  2344.0|         O|12b4164904d6ecac8...| 47760.0|8c1e38274fba4c211...|368a2b6e4893c8ab0...|0b0b39198d9a5f47e...|2b047d7167ac6b275...|3c7ce134e41449a3f...|\n",
      "+------+--------------------+------------+-----------+--------+----------+--------------------+--------+--------------------+--------------------+--------------------+--------------------+--------------------+\n",
      "only showing top 5 rows\n",
      "\n"
     ]
    }
   ],
   "source": [
    "spark_df.show(5)"
   ]
  },
  {
   "cell_type": "code",
   "execution_count": 126,
   "id": "10ce7761",
   "metadata": {},
   "outputs": [
    {
     "name": "stdout",
     "output_type": "stream",
     "text": [
      "+------+\n",
      "|TARGET|\n",
      "+------+\n",
      "|   0.0|\n",
      "|   1.0|\n",
      "+------+\n",
      "\n"
     ]
    }
   ],
   "source": [
    "spark_df.select(\"TARGET\").distinct().show()"
   ]
  },
  {
   "cell_type": "code",
   "execution_count": 127,
   "id": "11f7c8e1",
   "metadata": {},
   "outputs": [
    {
     "name": "stdout",
     "output_type": "stream",
     "text": [
      "+-------+--------------------+-----------------+------------------+------------------+------------------+\n",
      "|summary|              TARGET|     DAY_OF_MONTH|       DAY_OF_WEEK|          TXN_TIME|          TXN_AMNT|\n",
      "+-------+--------------------+-----------------+------------------+------------------+------------------+\n",
      "|  count|              607507|           607507|            607507|            607507|            607391|\n",
      "|   mean|0.006064127656142234|10.64453413705521| 4.031207870855809|1434.6514673904992|479.29211990299495|\n",
      "| stddev| 0.07763609942149745| 5.74144331272658|1.9863533004906548| 596.4313362735044|10471.584699228084|\n",
      "|    min|                 0.0|              1.0|               1.0|               0.0|               0.0|\n",
      "|    max|                 1.0|             20.0|               7.0|            2359.0|         4792970.0|\n",
      "+-------+--------------------+-----------------+------------------+------------------+------------------+\n",
      "\n"
     ]
    }
   ],
   "source": [
    "num_cols = [col[0] for col in spark_df.dtypes if col[1] != 'string']\n",
    "spark_df.select(num_cols).describe().show() "
   ]
  },
  {
   "cell_type": "code",
   "execution_count": 128,
   "id": "da6fb29b",
   "metadata": {},
   "outputs": [
    {
     "name": "stdout",
     "output_type": "stream",
     "text": [
      "+-------+--------------------+----------+--------------------+--------------------+--------------------+--------------------+--------------------+--------------------+\n",
      "|summary|               CC_NR|TXN_SOURCE|           TXN_ENTRY|                CITY|             COUNTRY|             MC_NAME|               MC_ID|            MCC_CODE|\n",
      "+-------+--------------------+----------+--------------------+--------------------+--------------------+--------------------+--------------------+--------------------+\n",
      "|  count|              607507|    607507|              607507|              607507|              607507|              607507|              607507|              607507|\n",
      "|   mean|                null|      null|                null|                null|                null|                null|                null|                null|\n",
      "| stddev|                null|      null|                null|                null|                null|                null|                null|                null|\n",
      "|    min|000089285ee94f2d0...|         B|12b4164904d6ecac8...|001166e9fabf28e96...|02da0fe843543df06...|00025f8b4d2dfa2ed...|0002d1fdac025cea2...|0156beaa20ba79711...|\n",
      "|    max|fffefd161e3a94d71...|         V|34d600ed59b9dee0e...|fff29ffc054e3bbb9...|fc99c77f178627b93...|fff88806a5bc84f93...|ffe39478393dfbe8e...|ffc52906ddb65d175...|\n",
      "+-------+--------------------+----------+--------------------+--------------------+--------------------+--------------------+--------------------+--------------------+\n",
      "\n"
     ]
    }
   ],
   "source": [
    "cat_cols = [col[0] for col in spark_df.dtypes if col[1] == 'string']\n",
    "spark_df.select(cat_cols).describe().show() "
   ]
  },
  {
   "cell_type": "code",
   "execution_count": 129,
   "id": "439ab1a7",
   "metadata": {},
   "outputs": [
    {
     "data": {
      "text/html": [
       "<div>\n",
       "<style scoped>\n",
       "    .dataframe tbody tr th:only-of-type {\n",
       "        vertical-align: middle;\n",
       "    }\n",
       "\n",
       "    .dataframe tbody tr th {\n",
       "        vertical-align: top;\n",
       "    }\n",
       "\n",
       "    .dataframe thead th {\n",
       "        text-align: right;\n",
       "    }\n",
       "</style>\n",
       "<table border=\"1\" class=\"dataframe\">\n",
       "  <thead>\n",
       "    <tr style=\"text-align: right;\">\n",
       "      <th></th>\n",
       "      <th>0</th>\n",
       "    </tr>\n",
       "  </thead>\n",
       "  <tbody>\n",
       "    <tr>\n",
       "      <th>TARGET</th>\n",
       "      <td>0</td>\n",
       "    </tr>\n",
       "    <tr>\n",
       "      <th>CC_NR</th>\n",
       "      <td>0</td>\n",
       "    </tr>\n",
       "    <tr>\n",
       "      <th>DAY_OF_MONTH</th>\n",
       "      <td>0</td>\n",
       "    </tr>\n",
       "    <tr>\n",
       "      <th>DAY_OF_WEEK</th>\n",
       "      <td>0</td>\n",
       "    </tr>\n",
       "    <tr>\n",
       "      <th>TXN_TIME</th>\n",
       "      <td>0</td>\n",
       "    </tr>\n",
       "    <tr>\n",
       "      <th>TXN_SOURCE</th>\n",
       "      <td>0</td>\n",
       "    </tr>\n",
       "    <tr>\n",
       "      <th>TXN_ENTRY</th>\n",
       "      <td>0</td>\n",
       "    </tr>\n",
       "    <tr>\n",
       "      <th>TXN_AMNT</th>\n",
       "      <td>116</td>\n",
       "    </tr>\n",
       "    <tr>\n",
       "      <th>CITY</th>\n",
       "      <td>0</td>\n",
       "    </tr>\n",
       "    <tr>\n",
       "      <th>COUNTRY</th>\n",
       "      <td>0</td>\n",
       "    </tr>\n",
       "    <tr>\n",
       "      <th>MC_NAME</th>\n",
       "      <td>0</td>\n",
       "    </tr>\n",
       "    <tr>\n",
       "      <th>MC_ID</th>\n",
       "      <td>0</td>\n",
       "    </tr>\n",
       "    <tr>\n",
       "      <th>MCC_CODE</th>\n",
       "      <td>0</td>\n",
       "    </tr>\n",
       "  </tbody>\n",
       "</table>\n",
       "</div>"
      ],
      "text/plain": [
       "                0\n",
       "TARGET          0\n",
       "CC_NR           0\n",
       "DAY_OF_MONTH    0\n",
       "DAY_OF_WEEK     0\n",
       "TXN_TIME        0\n",
       "TXN_SOURCE      0\n",
       "TXN_ENTRY       0\n",
       "TXN_AMNT      116\n",
       "CITY            0\n",
       "COUNTRY         0\n",
       "MC_NAME         0\n",
       "MC_ID           0\n",
       "MCC_CODE        0"
      ]
     },
     "execution_count": 129,
     "metadata": {},
     "output_type": "execute_result"
    }
   ],
   "source": [
    "from pyspark.sql.functions import when, count, col\n",
    "spark_df.select([count(when(col(c).isNull(), c)).alias(c) for c in spark_df.columns]).toPandas().T\n",
    "\n",
    "# there are some missing values on TXN_AMNT feature. "
   ]
  },
  {
   "cell_type": "code",
   "execution_count": 130,
   "id": "b4a98412",
   "metadata": {},
   "outputs": [],
   "source": [
    "spark_df = spark_df.fillna({'TXN_AMNT':'0'})  # I fill them with 0."
   ]
  },
  {
   "cell_type": "code",
   "execution_count": 131,
   "id": "73e32d2a",
   "metadata": {},
   "outputs": [
    {
     "data": {
      "text/html": [
       "<div>\n",
       "<style scoped>\n",
       "    .dataframe tbody tr th:only-of-type {\n",
       "        vertical-align: middle;\n",
       "    }\n",
       "\n",
       "    .dataframe tbody tr th {\n",
       "        vertical-align: top;\n",
       "    }\n",
       "\n",
       "    .dataframe thead th {\n",
       "        text-align: right;\n",
       "    }\n",
       "</style>\n",
       "<table border=\"1\" class=\"dataframe\">\n",
       "  <thead>\n",
       "    <tr style=\"text-align: right;\">\n",
       "      <th></th>\n",
       "      <th>0</th>\n",
       "    </tr>\n",
       "  </thead>\n",
       "  <tbody>\n",
       "    <tr>\n",
       "      <th>TARGET</th>\n",
       "      <td>0</td>\n",
       "    </tr>\n",
       "    <tr>\n",
       "      <th>CC_NR</th>\n",
       "      <td>0</td>\n",
       "    </tr>\n",
       "    <tr>\n",
       "      <th>DAY_OF_MONTH</th>\n",
       "      <td>0</td>\n",
       "    </tr>\n",
       "    <tr>\n",
       "      <th>DAY_OF_WEEK</th>\n",
       "      <td>0</td>\n",
       "    </tr>\n",
       "    <tr>\n",
       "      <th>TXN_TIME</th>\n",
       "      <td>0</td>\n",
       "    </tr>\n",
       "    <tr>\n",
       "      <th>TXN_SOURCE</th>\n",
       "      <td>0</td>\n",
       "    </tr>\n",
       "    <tr>\n",
       "      <th>TXN_ENTRY</th>\n",
       "      <td>0</td>\n",
       "    </tr>\n",
       "    <tr>\n",
       "      <th>TXN_AMNT</th>\n",
       "      <td>0</td>\n",
       "    </tr>\n",
       "    <tr>\n",
       "      <th>CITY</th>\n",
       "      <td>0</td>\n",
       "    </tr>\n",
       "    <tr>\n",
       "      <th>COUNTRY</th>\n",
       "      <td>0</td>\n",
       "    </tr>\n",
       "    <tr>\n",
       "      <th>MC_NAME</th>\n",
       "      <td>0</td>\n",
       "    </tr>\n",
       "    <tr>\n",
       "      <th>MC_ID</th>\n",
       "      <td>0</td>\n",
       "    </tr>\n",
       "    <tr>\n",
       "      <th>MCC_CODE</th>\n",
       "      <td>0</td>\n",
       "    </tr>\n",
       "  </tbody>\n",
       "</table>\n",
       "</div>"
      ],
      "text/plain": [
       "              0\n",
       "TARGET        0\n",
       "CC_NR         0\n",
       "DAY_OF_MONTH  0\n",
       "DAY_OF_WEEK   0\n",
       "TXN_TIME      0\n",
       "TXN_SOURCE    0\n",
       "TXN_ENTRY     0\n",
       "TXN_AMNT      0\n",
       "CITY          0\n",
       "COUNTRY       0\n",
       "MC_NAME       0\n",
       "MC_ID         0\n",
       "MCC_CODE      0"
      ]
     },
     "execution_count": 131,
     "metadata": {},
     "output_type": "execute_result"
    }
   ],
   "source": [
    "spark_df.select([count(when(col(c).isNull(), c)).alias(c) for c in spark_df.columns]).toPandas().T # zero missing values+"
   ]
  },
  {
   "cell_type": "code",
   "execution_count": 132,
   "id": "6265d785",
   "metadata": {},
   "outputs": [
    {
     "name": "stdout",
     "output_type": "stream",
     "text": [
      "+------+--------------------+------------+-----------+--------+----------+--------------------+--------+--------------------+--------------------+--------------------+--------------------+--------------------+\n",
      "|target|               cc_nr|day_of_month|day_of_week|txn_time|txn_source|           txn_entry|txn_amnt|                city|             country|             mc_name|               mc_id|            mcc_code|\n",
      "+------+--------------------+------------+-----------+--------+----------+--------------------+--------+--------------------+--------------------+--------------------+--------------------+--------------------+\n",
      "|   0.0|bf4e876751b878515...|         8.0|        4.0|  1800.0|         O|12d7720f7273e2a1c...|   540.0|8c1e38274fba4c211...|368a2b6e4893c8ab0...|09adaccd88433a530...|e0d92b0729b140698...|9bcde6cbc90213586...|\n",
      "|   0.0|933c28d9d4c6fb6db...|        11.0|        7.0|  1404.0|         O|12b4164904d6ecac8...| 49490.0|8c1e38274fba4c211...|368a2b6e4893c8ab0...|0b0b39198d9a5f47e...|2b047d7167ac6b275...|3c7ce134e41449a3f...|\n",
      "|   0.0|194024f4b029f8df4...|        17.0|        6.0|  1750.0|         O|12b4164904d6ecac8...|  5040.0|8c1e38274fba4c211...|368a2b6e4893c8ab0...|59c94e8a976c930a6...|2ff0f25b15cabe373...|2ae12c28b5bebf8e0...|\n",
      "|   0.0|194024f4b029f8df4...|         1.0|        4.0|  1741.0|         O|12d7720f7273e2a1c...|    10.0|8c1e38274fba4c211...|368a2b6e4893c8ab0...|a7db20b1dba321830...|e60354c25c84c7742...|03a768696503f2039...|\n",
      "|   0.0|933c28d9d4c6fb6db...|         7.0|        3.0|  2344.0|         O|12b4164904d6ecac8...| 47760.0|8c1e38274fba4c211...|368a2b6e4893c8ab0...|0b0b39198d9a5f47e...|2b047d7167ac6b275...|3c7ce134e41449a3f...|\n",
      "+------+--------------------+------------+-----------+--------+----------+--------------------+--------+--------------------+--------------------+--------------------+--------------------+--------------------+\n",
      "only showing top 5 rows\n",
      "\n"
     ]
    }
   ],
   "source": [
    "spark_df = spark_df.toDF(*[c.lower() for c in spark_df.columns])\n",
    "spark_df.show(5)"
   ]
  },
  {
   "cell_type": "code",
   "execution_count": 133,
   "id": "defbf312",
   "metadata": {},
   "outputs": [],
   "source": [
    "spark_df = spark_df.drop('mc_name')  # this feature is highly correlated with mc_id, so we don't need it."
   ]
  },
  {
   "cell_type": "code",
   "execution_count": 134,
   "id": "10e2cda5",
   "metadata": {},
   "outputs": [],
   "source": [
    "spark_df = spark_df.withColumn(\"TXN_AMNT\", spark_df[\"TXN_AMNT\"].cast(\"integer\")) #float to integer"
   ]
  },
  {
   "cell_type": "code",
   "execution_count": 135,
   "id": "922cb184",
   "metadata": {},
   "outputs": [],
   "source": [
    "# indexing all categorical columns in the dataset\n",
    "from pyspark.ml.feature import StringIndexer\n",
    "indexer1 = StringIndexer(inputCol=\"cc_nr\", outputCol=\"cc_nr_index\")\n",
    "indexer2 = StringIndexer(inputCol=\"txn_source\", outputCol=\"txn_source_index\")\n",
    "indexer3 = StringIndexer(inputCol=\"txn_entry\", outputCol=\"txn_entry_index\")\n",
    "indexer4 = StringIndexer(inputCol=\"city\", outputCol=\"city_index\")\n",
    "indexer5 = StringIndexer(inputCol=\"country\", outputCol=\"country_index\")\n",
    "indexer6 = StringIndexer(inputCol=\"mc_id\", outputCol=\"mc_id_label\")\n",
    "indexer7 = StringIndexer(inputCol=\"mcc_code\", outputCol=\"mcc_code_label\")"
   ]
  },
  {
   "cell_type": "code",
   "execution_count": 137,
   "id": "4cd166e5",
   "metadata": {},
   "outputs": [],
   "source": [
    "#One Hot Encoding day features\n",
    "encoder = OneHotEncoder(inputCols=[\"day_of_month\", \"day_of_week\"], outputCols=[\"day_of_month_ohe\", \"day_of_week_ohe\"])\n",
    "spark_df = encoder.fit(spark_df).transform(spark_df)"
   ]
  },
  {
   "cell_type": "code",
   "execution_count": 142,
   "id": "2cb9b905",
   "metadata": {},
   "outputs": [],
   "source": [
    "train_data, test_data = spark_df.randomSplit([0.75, 0.25])  #train_test_split"
   ]
  },
  {
   "cell_type": "code",
   "execution_count": 140,
   "id": "70448e11",
   "metadata": {},
   "outputs": [],
   "source": [
    "spark_df = spark_df.drop(\"day_of_month\", \"day_of_week\")  # we already encoded them, so we dont need their original forms."
   ]
  },
  {
   "cell_type": "code",
   "execution_count": 145,
   "id": "6f3c4a43",
   "metadata": {},
   "outputs": [],
   "source": [
    "#vector assembling\n",
    "from pyspark.ml.feature import VectorAssembler\n",
    "assembler = VectorAssembler(inputCols=['txn_time',\n",
    "                                       #\"txn_amnt\",\n",
    " 'day_of_month_ohe',\n",
    " 'day_of_week_ohe'],outputCol='features')"
   ]
  },
  {
   "cell_type": "code",
   "execution_count": 146,
   "id": "bd72ee66",
   "metadata": {},
   "outputs": [],
   "source": [
    "#DecisionTreeAlgorithm\n",
    "from pyspark.ml.classification import DecisionTreeClassifier\n",
    "dtc = DecisionTreeClassifier(labelCol='target',featuresCol='features')"
   ]
  },
  {
   "cell_type": "code",
   "execution_count": 147,
   "id": "21115fe3",
   "metadata": {},
   "outputs": [],
   "source": [
    "from pyspark.ml import Pipeline\n",
    "pipeline = Pipeline(stages=[indexer1, indexer2, indexer3, indexer4, indexer5, indexer6, indexer7, assembler, dtc])"
   ]
  },
  {
   "cell_type": "code",
   "execution_count": 153,
   "id": "38be7ece",
   "metadata": {},
   "outputs": [],
   "source": [
    "# splitting training and validation data\n",
    "train_data,val_data = spark_df.randomSplit([0.7,0.3])\n",
    "\n",
    "# training model pipeline with data\n",
    "model = pipeline.fit(train_data)"
   ]
  },
  {
   "cell_type": "code",
   "execution_count": 159,
   "id": "1e2d6bed",
   "metadata": {},
   "outputs": [
    {
     "name": "stdout",
     "output_type": "stream",
     "text": [
      "+----------+--------------------+------+--------------------+\n",
      "|prediction|         probability|target|            features|\n",
      "+----------+--------------------+------+--------------------+\n",
      "|       0.0|[0.99397231923425...|   0.0|(28,[0,8,24],[162...|\n",
      "|       0.0|[0.99397231923425...|   0.0|(28,[0,15,24],[93...|\n",
      "|       0.0|[0.99397231923425...|   0.0|(28,[0,7,23],[210...|\n",
      "|       0.0|[0.99397231923425...|   0.0|(28,[0,4,27],[103...|\n",
      "|       0.0|[0.99397231923425...|   0.0|(28,[0,20,22],[30...|\n",
      "+----------+--------------------+------+--------------------+\n",
      "only showing top 5 rows\n",
      "\n"
     ]
    }
   ],
   "source": [
    "# making prediction on model with validation data\n",
    "dtc_predictions = model.transform(val_data)\n",
    "\n",
    "# Select example rows to display.\n",
    "dtc_predictions.select(\"prediction\",\"probability\", \"target\", \"features\").show(5)"
   ]
  },
  {
   "cell_type": "code",
   "execution_count": 160,
   "id": "04875ff9",
   "metadata": {},
   "outputs": [
    {
     "name": "stdout",
     "output_type": "stream",
     "text": [
      "A Decision Tree algorithm had an accuracy of: 99.39%\n"
     ]
    }
   ],
   "source": [
    "from pyspark.ml.evaluation import MulticlassClassificationEvaluator\n",
    "acc_evaluator = MulticlassClassificationEvaluator(labelCol=\"target\", predictionCol=\"prediction\", metricName=\"accuracy\")\n",
    "dtc_acc = acc_evaluator.evaluate(dtc_predictions)\n",
    "print('A Decision Tree algorithm had an accuracy of: {0:2.2f}%'.format(dtc_acc*100))"
   ]
  }
 ],
 "metadata": {
  "kernelspec": {
   "display_name": "Python 3 (ipykernel)",
   "language": "python",
   "name": "python3"
  },
  "language_info": {
   "codemirror_mode": {
    "name": "ipython",
    "version": 3
   },
   "file_extension": ".py",
   "mimetype": "text/x-python",
   "name": "python",
   "nbconvert_exporter": "python",
   "pygments_lexer": "ipython3",
   "version": "3.9.7"
  }
 },
 "nbformat": 4,
 "nbformat_minor": 5
}
